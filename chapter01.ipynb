{
  "nbformat": 4,
  "nbformat_minor": 0,
  "metadata": {
    "colab": {
      "name": "chapter01.ipynb",
      "private_outputs": true,
      "provenance": [],
      "authorship_tag": "ABX9TyPCHuT9015b5FF+4hqQ6MXe",
      "include_colab_link": true
    },
    "kernelspec": {
      "name": "python3",
      "display_name": "Python 3"
    },
    "language_info": {
      "name": "python"
    }
  },
  "cells": [
    {
      "cell_type": "markdown",
      "metadata": {
        "id": "view-in-github",
        "colab_type": "text"
      },
      "source": [
        "<a href=\"https://colab.research.google.com/github/waltechel/20210601Hackerton/blob/master/chapter01.ipynb\" target=\"_parent\"><img src=\"https://colab.research.google.com/assets/colab-badge.svg\" alt=\"Open In Colab\"/></a>"
      ]
    },
    {
      "cell_type": "markdown",
      "metadata": {
        "id": "1ne_KJJ-VGA6"
      },
      "source": [
        "# chapter01 파이썬에게 질문하기"
      ]
    },
    {
      "cell_type": "markdown",
      "metadata": {
        "id": "c3wKvbylVNRB"
      },
      "source": [
        "## 01-1. 파이썬의 시작 포인트\n"
      ]
    },
    {
      "cell_type": "markdown",
      "metadata": {
        "id": "yztDx_ZNVRoh"
      },
      "source": [
        "## 01-2. 파이썬의 특징\n"
      ]
    },
    {
      "cell_type": "markdown",
      "metadata": {
        "id": "JvWXO-8aVTFp"
      },
      "source": [
        "## 01-3. 일단 파이썬을 설치하자.\n",
        "\n"
      ]
    },
    {
      "cell_type": "markdown",
      "metadata": {
        "id": "tA4IbPKZVXIb"
      },
      "source": [
        "## 01-4. 수식을 계산하게 하자.\n"
      ]
    },
    {
      "cell_type": "code",
      "metadata": {
        "id": "ZRvQQ7bmYqSt"
      },
      "source": [
        "33 + 55"
      ],
      "execution_count": null,
      "outputs": []
    },
    {
      "cell_type": "code",
      "metadata": {
        "id": "3UN1aDu0YsSM"
      },
      "source": [
        "33 + 55 = "
      ],
      "execution_count": null,
      "outputs": []
    },
    {
      "cell_type": "code",
      "metadata": {
        "id": "64olUcTsYt28"
      },
      "source": [
        "7 * 5 / 2"
      ],
      "execution_count": null,
      "outputs": []
    },
    {
      "cell_type": "code",
      "metadata": {
        "id": "X-8Ta085Ywbv"
      },
      "source": [
        "9 * ( 5 - 7 ) / 3"
      ],
      "execution_count": null,
      "outputs": []
    },
    {
      "cell_type": "markdown",
      "metadata": {
        "id": "jIcCVteTVY9K"
      },
      "source": [
        "## 01-5. 헤이 지니! 소리질러!"
      ]
    },
    {
      "cell_type": "code",
      "metadata": {
        "id": "QTt2t-h4ZIBm"
      },
      "source": [
        "hello, world!"
      ],
      "execution_count": null,
      "outputs": []
    },
    {
      "cell_type": "code",
      "metadata": {
        "id": "TpZUzEH7ZLP3"
      },
      "source": [
        "print(\"hello world!\")"
      ],
      "execution_count": null,
      "outputs": []
    },
    {
      "cell_type": "code",
      "metadata": {
        "id": "_MDaCA8BZN43"
      },
      "source": [
        "print(5)"
      ],
      "execution_count": null,
      "outputs": []
    },
    {
      "cell_type": "code",
      "metadata": {
        "id": "WRYdbzOvZPN5"
      },
      "source": [
        "print(\"5\")"
      ],
      "execution_count": null,
      "outputs": []
    },
    {
      "cell_type": "code",
      "metadata": {
        "id": "PS9hUiqWZQWX"
      },
      "source": [
        "print(3 + 5)"
      ],
      "execution_count": null,
      "outputs": []
    },
    {
      "cell_type": "code",
      "metadata": {
        "id": "o4VsnpSFZRpo"
      },
      "source": [
        "print(\"3 + 5\")"
      ],
      "execution_count": null,
      "outputs": []
    },
    {
      "cell_type": "code",
      "metadata": {
        "id": "EbC8NKgyZUOZ"
      },
      "source": [
        "print(\"3 + 5 =\", 3 + 5)"
      ],
      "execution_count": null,
      "outputs": []
    },
    {
      "cell_type": "code",
      "metadata": {
        "id": "I4Bz4H2qZXtT"
      },
      "source": [
        "print(1, 2, 3, \"hello\", \"world\")"
      ],
      "execution_count": null,
      "outputs": []
    },
    {
      "cell_type": "code",
      "metadata": {
        "id": "0esfq4EMZaXK"
      },
      "source": [
        "print(\"3 + 5\", 3 + 5)"
      ],
      "execution_count": null,
      "outputs": []
    },
    {
      "cell_type": "markdown",
      "metadata": {
        "id": "RlojWjJZZfHh"
      },
      "source": [
        "- 문제 1. 파이썬 프롬프트를 통해서 자신의 이름을 출력해보자"
      ]
    },
    {
      "cell_type": "code",
      "metadata": {
        "id": "LhryZNd8Zeox"
      },
      "source": [
        ""
      ],
      "execution_count": null,
      "outputs": []
    },
    {
      "cell_type": "markdown",
      "metadata": {
        "id": "fh7aegtPZjE7"
      },
      "source": [
        "- 문제 2. 파이썬 프롬프트를 통해서 1부터 10까지 더한 결과를 출력해보자"
      ]
    },
    {
      "cell_type": "code",
      "metadata": {
        "id": "InTM99XPZnCk"
      },
      "source": [
        ""
      ],
      "execution_count": null,
      "outputs": []
    },
    {
      "cell_type": "markdown",
      "metadata": {
        "id": "z_gIPruLZmpr"
      },
      "source": [
        "- 문제 3. 파이썬 프롬프트를 통해서 2를 5회 곱한 결과를 출력해보자"
      ]
    },
    {
      "cell_type": "code",
      "metadata": {
        "id": "CeclnUnWZsXL"
      },
      "source": [
        ""
      ],
      "execution_count": null,
      "outputs": []
    },
    {
      "cell_type": "markdown",
      "metadata": {
        "id": "IKXy91fjZtPV"
      },
      "source": [
        "- 문제 4 파이썬 프롬프트를 통해서 다음을 출력해보자\n",
        "- 5-(3-1) = 3"
      ]
    },
    {
      "cell_type": "code",
      "metadata": {
        "id": "PaGIJNEFZzyU"
      },
      "source": [
        ""
      ],
      "execution_count": null,
      "outputs": []
    },
    {
      "cell_type": "markdown",
      "metadata": {
        "id": "MdcEY5f6Z0Zs"
      },
      "source": [
        "- 문제 5. 파이썬 프롬프트를 통해서 10을 2로 나눈 결과와 10을 2로 곱한 결과를 각각 출력해보자. "
      ]
    },
    {
      "cell_type": "code",
      "metadata": {
        "id": "Xb513WQraOxw"
      },
      "source": [
        ""
      ],
      "execution_count": null,
      "outputs": []
    },
    {
      "cell_type": "markdown",
      "metadata": {
        "id": "aPae7bBKYZkD"
      },
      "source": [
        "## 01-6. 이거 기억해 둬 조금 이따가 다시 사용할거야"
      ]
    },
    {
      "cell_type": "code",
      "metadata": {
        "id": "JjPSky-OZ961"
      },
      "source": [
        "val = 30"
      ],
      "execution_count": null,
      "outputs": []
    },
    {
      "cell_type": "code",
      "metadata": {
        "id": "24yjYk81aBvm"
      },
      "source": [
        "v1 = 25\n",
        "v2 = 30\n",
        "print(v1, v2)"
      ],
      "execution_count": null,
      "outputs": []
    },
    {
      "cell_type": "code",
      "metadata": {
        "id": "d_SyEz02aEg4"
      },
      "source": [
        "x = 3 * 50\n",
        "y = x + 120\n",
        "z = y / 3\n",
        "print(z)"
      ],
      "execution_count": null,
      "outputs": []
    },
    {
      "cell_type": "markdown",
      "metadata": {
        "id": "UtjeI84MbGut"
      },
      "source": [
        "- 다음 질문 세 개의 변수를 x, y, z로 나누어 사용한다."
      ]
    },
    {
      "cell_type": "markdown",
      "metadata": {
        "id": "Fg2JngbFadvJ"
      },
      "source": [
        "- 질문 1. 정수 2를 세 번 곱하면 얼마인가?"
      ]
    },
    {
      "cell_type": "code",
      "metadata": {
        "id": "iZc1OAtaahkJ"
      },
      "source": [
        ""
      ],
      "execution_count": null,
      "outputs": []
    },
    {
      "cell_type": "markdown",
      "metadata": {
        "id": "RVCzKLcBaiDR"
      },
      "source": [
        "- 질문 2. 그 결과를 4로 나누면 얼마인가?\n"
      ]
    },
    {
      "cell_type": "code",
      "metadata": {
        "id": "W9ANtBULaoM6"
      },
      "source": [
        ""
      ],
      "execution_count": null,
      "outputs": []
    },
    {
      "cell_type": "markdown",
      "metadata": {
        "id": "l3lGzCVualUa"
      },
      "source": [
        "- 질문 3. 그 결과를 두 번 곱하면 얼마인가?"
      ]
    },
    {
      "cell_type": "code",
      "metadata": {
        "id": "QRxdDA23apXK"
      },
      "source": [
        ""
      ],
      "execution_count": null,
      "outputs": []
    },
    {
      "cell_type": "markdown",
      "metadata": {
        "id": "yufBZEEsYaTQ"
      },
      "source": [
        "## 01-7. 이름 가져다 붙이기"
      ]
    },
    {
      "cell_type": "markdown",
      "metadata": {
        "id": "fSNIpZszbOZ3"
      },
      "source": [
        "- 다음 질문 세 개의 변수를 x로만 사용한다."
      ]
    },
    {
      "cell_type": "markdown",
      "metadata": {
        "id": "Qx68D8eSbQ7R"
      },
      "source": [
        "- 질문 1. 정수 2를 세 번 곱하면 얼마인가?"
      ]
    },
    {
      "cell_type": "code",
      "metadata": {
        "id": "NWi64lz-bTFo"
      },
      "source": [
        ""
      ],
      "execution_count": null,
      "outputs": []
    },
    {
      "cell_type": "markdown",
      "metadata": {
        "id": "ubZ4kr9abT6A"
      },
      "source": [
        "- 질문 2. 그 결과를 4로 나누면 얼마인가?"
      ]
    },
    {
      "cell_type": "code",
      "metadata": {
        "id": "epQ-kDvubVag"
      },
      "source": [
        ""
      ],
      "execution_count": null,
      "outputs": []
    },
    {
      "cell_type": "markdown",
      "metadata": {
        "id": "M_BIsiXKbVxY"
      },
      "source": [
        "- 질문 3. 그 결과를 두 번 곱하면 얼마인가?"
      ]
    },
    {
      "cell_type": "code",
      "metadata": {
        "id": "pFNaZmdabXjf"
      },
      "source": [
        ""
      ],
      "execution_count": null,
      "outputs": []
    },
    {
      "cell_type": "markdown",
      "metadata": {
        "id": "xwDT_SkvYb3q"
      },
      "source": [
        "## 01-8. 변수(Variables)와 대입 연산자"
      ]
    },
    {
      "cell_type": "markdown",
      "metadata": {
        "id": "4hBpLCHlYdFS"
      },
      "source": [
        "## 01-9. 이거 어떤 일들이 벌어질까요?"
      ]
    },
    {
      "cell_type": "code",
      "metadata": {
        "id": "oKeRcWlcbeEh"
      },
      "source": [
        "x, y = 121, 797"
      ],
      "execution_count": null,
      "outputs": []
    },
    {
      "cell_type": "code",
      "metadata": {
        "id": "1YPUb0izbiIw"
      },
      "source": [
        "print(\"x : \", x , \"y : \" , y)"
      ],
      "execution_count": null,
      "outputs": []
    },
    {
      "cell_type": "code",
      "metadata": {
        "id": "C_r5iSV6blOB"
      },
      "source": [
        "x, y = y, x"
      ],
      "execution_count": null,
      "outputs": []
    },
    {
      "cell_type": "code",
      "metadata": {
        "id": "RZAsCH_2bn_a"
      },
      "source": [
        "print(\"x : \", x , \"y : \" , y)"
      ],
      "execution_count": null,
      "outputs": []
    },
    {
      "cell_type": "code",
      "metadata": {
        "id": "7nfFsHvXbptq"
      },
      "source": [
        ""
      ],
      "execution_count": null,
      "outputs": []
    }
  ]
}